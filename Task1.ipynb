{
 "cells": [
  {
   "cell_type": "markdown",
   "id": "cb1202fd",
   "metadata": {},
   "source": [
    "## Requirements and Setup"
   ]
  },
  {
   "cell_type": "code",
   "execution_count": 1,
   "id": "094d7806",
   "metadata": {},
   "outputs": [
    {
     "name": "stdout",
     "output_type": "stream",
     "text": [
      "Collecting cirq\n",
      "  Downloading cirq-0.14.1-py3-none-any.whl (7.8 kB)\n",
      "Collecting cirq-ionq==0.14.1\n",
      "  Downloading cirq_ionq-0.14.1-py3-none-any.whl (48 kB)\n",
      "\u001b[K     |████████████████████████████████| 48 kB 469 kB/s eta 0:00:011\n",
      "\u001b[?25hCollecting cirq-rigetti==0.14.1\n",
      "  Downloading cirq_rigetti-0.14.1-py3-none-any.whl (56 kB)\n",
      "\u001b[K     |████████████████████████████████| 56 kB 532 kB/s  eta 0:00:01\n",
      "\u001b[?25hCollecting cirq-pasqal==0.14.1\n",
      "  Downloading cirq_pasqal-0.14.1-py3-none-any.whl (30 kB)\n",
      "Collecting cirq-google==0.14.1\n",
      "  Downloading cirq_google-0.14.1-py3-none-any.whl (541 kB)\n",
      "\u001b[K     |████████████████████████████████| 541 kB 8.9 MB/s eta 0:00:01\n",
      "\u001b[?25hCollecting cirq-core==0.14.1\n",
      "  Downloading cirq_core-0.14.1-py3-none-any.whl (1.8 MB)\n",
      "\u001b[K     |████████████████████████████████| 1.8 MB 8.9 MB/s eta 0:00:01\n",
      "\u001b[?25hCollecting cirq-web==0.14.1\n",
      "  Downloading cirq_web-0.14.1-py3-none-any.whl (593 kB)\n",
      "\u001b[K     |████████████████████████████████| 593 kB 11.4 MB/s eta 0:00:01\n",
      "\u001b[?25hCollecting cirq-aqt==0.14.1\n",
      "  Downloading cirq_aqt-0.14.1-py3-none-any.whl (19 kB)\n",
      "Requirement already satisfied: requests~=2.18 in /home/pratzz/anaconda3/lib/python3.8/site-packages (from cirq-aqt==0.14.1->cirq) (2.26.0)\n",
      "Requirement already satisfied: pandas in /home/pratzz/anaconda3/lib/python3.8/site-packages (from cirq-core==0.14.1->cirq) (1.3.2)\n",
      "Requirement already satisfied: scipy in /home/pratzz/anaconda3/lib/python3.8/site-packages (from cirq-core==0.14.1->cirq) (1.7.1)\n",
      "Requirement already satisfied: sympy<1.10 in /home/pratzz/anaconda3/lib/python3.8/site-packages (from cirq-core==0.14.1->cirq) (1.6.2)\n",
      "Requirement already satisfied: numpy~=1.16 in /home/pratzz/anaconda3/lib/python3.8/site-packages (from cirq-core==0.14.1->cirq) (1.19.5)\n",
      "Requirement already satisfied: tqdm in /home/pratzz/anaconda3/lib/python3.8/site-packages (from cirq-core==0.14.1->cirq) (4.62.2)\n",
      "Requirement already satisfied: typing-extensions in /home/pratzz/anaconda3/lib/python3.8/site-packages (from cirq-core==0.14.1->cirq) (3.10.0.2)\n",
      "Requirement already satisfied: networkx~=2.4 in /home/pratzz/anaconda3/lib/python3.8/site-packages (from cirq-core==0.14.1->cirq) (2.6.2)\n",
      "Requirement already satisfied: matplotlib~=3.0 in /home/pratzz/anaconda3/lib/python3.8/site-packages (from cirq-core==0.14.1->cirq) (3.4.2)\n",
      "Requirement already satisfied: sortedcontainers~=2.0 in /home/pratzz/anaconda3/lib/python3.8/site-packages (from cirq-core==0.14.1->cirq) (2.4.0)\n",
      "Collecting duet~=0.2.0\n",
      "  Downloading duet-0.2.5-py3-none-any.whl (28 kB)\n",
      "Requirement already satisfied: google-api-core[grpc]<2.0.0dev,>=1.14.0 in /home/pratzz/anaconda3/lib/python3.8/site-packages (from cirq-google==0.14.1->cirq) (1.26.3)\n",
      "Requirement already satisfied: protobuf>=3.13.0 in /home/pratzz/anaconda3/lib/python3.8/site-packages (from cirq-google==0.14.1->cirq) (3.15.8)\n",
      "Collecting idna~=2.10\n",
      "  Using cached idna-2.10-py2.py3-none-any.whl (58 kB)\n",
      "Requirement already satisfied: certifi~=2021.5.30 in /home/pratzz/anaconda3/lib/python3.8/site-packages (from cirq-rigetti==0.14.1->cirq) (2021.5.30)\n",
      "Collecting pydantic~=1.8.2\n",
      "  Downloading pydantic-1.8.2-cp38-cp38-manylinux2014_x86_64.whl (13.7 MB)\n",
      "\u001b[K     |████████████████████████████████| 13.7 MB 12.2 MB/s eta 0:00:01\n",
      "\u001b[?25hCollecting attrs~=20.3.0\n",
      "  Using cached attrs-20.3.0-py2.py3-none-any.whl (49 kB)\n",
      "Requirement already satisfied: retrying~=1.3.3 in /home/pratzz/anaconda3/lib/python3.8/site-packages (from cirq-rigetti==0.14.1->cirq) (1.3.3)\n",
      "Collecting iso8601~=0.1.14\n",
      "  Downloading iso8601-0.1.16-py2.py3-none-any.whl (10 kB)\n",
      "Collecting qcs-api-client~=0.8.0\n",
      "  Downloading qcs_api_client-0.8.0-py3-none-any.whl (97 kB)\n",
      "\u001b[K     |████████████████████████████████| 97 kB 400 kB/s  eta 0:00:01\n",
      "\u001b[?25hCollecting rfc3339~=6.2\n",
      "  Downloading rfc3339-6.2-py3-none-any.whl (5.5 kB)\n",
      "Requirement already satisfied: six~=1.16.0 in /home/pratzz/anaconda3/lib/python3.8/site-packages (from cirq-rigetti==0.14.1->cirq) (1.16.0)\n",
      "Requirement already satisfied: sniffio~=1.2.0 in /home/pratzz/anaconda3/lib/python3.8/site-packages (from cirq-rigetti==0.14.1->cirq) (1.2.0)\n",
      "Collecting httpx~=0.15.5\n",
      "  Downloading httpx-0.15.5-py3-none-any.whl (65 kB)\n",
      "\u001b[K     |████████████████████████████████| 65 kB 441 kB/s  eta 0:00:01\n",
      "\u001b[?25hCollecting pyjwt~=1.7.1\n",
      "  Downloading PyJWT-1.7.1-py2.py3-none-any.whl (18 kB)\n",
      "Collecting pyquil~=3.0.0\n",
      "  Downloading pyquil-3.0.1-py3-none-any.whl (220 kB)\n",
      "\u001b[K     |████████████████████████████████| 220 kB 12.1 MB/s eta 0:00:01\n",
      "\u001b[?25hCollecting h11~=0.9.0\n",
      "  Downloading h11-0.9.0-py2.py3-none-any.whl (53 kB)\n",
      "\u001b[K     |████████████████████████████████| 53 kB 254 kB/s  eta 0:00:01\n",
      "\u001b[?25hCollecting httpcore~=0.11.1\n",
      "  Downloading httpcore-0.11.1-py3-none-any.whl (52 kB)\n",
      "\u001b[K     |████████████████████████████████| 52 kB 147 kB/s  eta 0:00:01\n",
      "\u001b[?25hRequirement already satisfied: python-dateutil~=2.8.1 in /home/pratzz/anaconda3/lib/python3.8/site-packages (from cirq-rigetti==0.14.1->cirq) (2.8.2)\n",
      "Requirement already satisfied: toml~=0.10.2 in /home/pratzz/anaconda3/lib/python3.8/site-packages (from cirq-rigetti==0.14.1->cirq) (0.10.2)\n",
      "Collecting rfc3986~=1.5.0\n",
      "  Downloading rfc3986-1.5.0-py2.py3-none-any.whl (31 kB)\n",
      "Requirement already satisfied: googleapis-common-protos<2.0dev,>=1.6.0 in /home/pratzz/anaconda3/lib/python3.8/site-packages (from google-api-core[grpc]<2.0.0dev,>=1.14.0->cirq-google==0.14.1->cirq) (1.53.0)\n",
      "Requirement already satisfied: google-auth<2.0dev,>=1.21.1 in /home/pratzz/anaconda3/lib/python3.8/site-packages (from google-api-core[grpc]<2.0.0dev,>=1.14.0->cirq-google==0.14.1->cirq) (1.33.0)\n",
      "Requirement already satisfied: packaging>=14.3 in /home/pratzz/anaconda3/lib/python3.8/site-packages (from google-api-core[grpc]<2.0.0dev,>=1.14.0->cirq-google==0.14.1->cirq) (21.0)\n",
      "Requirement already satisfied: setuptools>=40.3.0 in /home/pratzz/anaconda3/lib/python3.8/site-packages (from google-api-core[grpc]<2.0.0dev,>=1.14.0->cirq-google==0.14.1->cirq) (58.0.4)\n",
      "Requirement already satisfied: pytz in /home/pratzz/anaconda3/lib/python3.8/site-packages (from google-api-core[grpc]<2.0.0dev,>=1.14.0->cirq-google==0.14.1->cirq) (2021.1)\n",
      "Requirement already satisfied: grpcio<2.0dev,>=1.29.0 in /home/pratzz/anaconda3/lib/python3.8/site-packages (from google-api-core[grpc]<2.0.0dev,>=1.14.0->cirq-google==0.14.1->cirq) (1.37.1)\n",
      "Requirement already satisfied: rsa<5,>=3.1.4 in /home/pratzz/anaconda3/lib/python3.8/site-packages (from google-auth<2.0dev,>=1.21.1->google-api-core[grpc]<2.0.0dev,>=1.14.0->cirq-google==0.14.1->cirq) (4.7.2)\n",
      "Requirement already satisfied: cachetools<5.0,>=2.0.0 in /home/pratzz/anaconda3/lib/python3.8/site-packages (from google-auth<2.0dev,>=1.21.1->google-api-core[grpc]<2.0.0dev,>=1.14.0->cirq-google==0.14.1->cirq) (4.2.2)\n",
      "Requirement already satisfied: pyasn1-modules>=0.2.1 in /home/pratzz/anaconda3/lib/python3.8/site-packages (from google-auth<2.0dev,>=1.21.1->google-api-core[grpc]<2.0.0dev,>=1.14.0->cirq-google==0.14.1->cirq) (0.2.8)\n",
      "Requirement already satisfied: kiwisolver>=1.0.1 in /home/pratzz/anaconda3/lib/python3.8/site-packages (from matplotlib~=3.0->cirq-core==0.14.1->cirq) (1.3.1)\n",
      "Requirement already satisfied: pillow>=6.2.0 in /home/pratzz/anaconda3/lib/python3.8/site-packages (from matplotlib~=3.0->cirq-core==0.14.1->cirq) (8.3.1)\n",
      "Requirement already satisfied: cycler>=0.10 in /home/pratzz/anaconda3/lib/python3.8/site-packages (from matplotlib~=3.0->cirq-core==0.14.1->cirq) (0.10.0)\n",
      "Requirement already satisfied: pyparsing>=2.2.1 in /home/pratzz/anaconda3/lib/python3.8/site-packages (from matplotlib~=3.0->cirq-core==0.14.1->cirq) (2.4.7)\n",
      "Requirement already satisfied: pyasn1<0.5.0,>=0.4.6 in /home/pratzz/anaconda3/lib/python3.8/site-packages (from pyasn1-modules>=0.2.1->google-auth<2.0dev,>=1.21.1->google-api-core[grpc]<2.0.0dev,>=1.14.0->cirq-google==0.14.1->cirq) (0.4.8)\n",
      "Collecting rpcq<4.0.0,>=3.6.0\n",
      "  Downloading rpcq-3.10.0.tar.gz (44 kB)\n",
      "\u001b[K     |████████████████████████████████| 44 kB 245 kB/s  eta 0:00:01\n",
      "\u001b[?25hCollecting retry<0.10.0,>=0.9.2\n",
      "  Downloading retry-0.9.2-py2.py3-none-any.whl (8.0 kB)\n",
      "Collecting lark<0.12.0,>=0.11.1\n",
      "  Downloading lark-0.11.3.tar.gz (229 kB)\n",
      "\u001b[K     |████████████████████████████████| 229 kB 11.6 MB/s eta 0:00:01\n",
      "\u001b[?25hCollecting numpy~=1.16\n",
      "  Downloading numpy-1.22.3-cp38-cp38-manylinux_2_17_x86_64.manylinux2014_x86_64.whl (16.8 MB)\n"
     ]
    },
    {
     "name": "stdout",
     "output_type": "stream",
     "text": [
      "\u001b[K     |████████████████████████████████| 16.8 MB 3.3 MB/s eta 0:00:011\n",
      "\u001b[?25hRequirement already satisfied: urllib3<1.27,>=1.21.1 in /home/pratzz/anaconda3/lib/python3.8/site-packages (from requests~=2.18->cirq-aqt==0.14.1->cirq) (1.26.6)\n",
      "Requirement already satisfied: charset-normalizer~=2.0.0 in /home/pratzz/anaconda3/lib/python3.8/site-packages (from requests~=2.18->cirq-aqt==0.14.1->cirq) (2.0.4)\n",
      "Requirement already satisfied: decorator>=3.4.2 in /home/pratzz/anaconda3/lib/python3.8/site-packages (from retry<0.10.0,>=0.9.2->pyquil~=3.0.0->cirq-rigetti==0.14.1->cirq) (5.0.9)\n",
      "Requirement already satisfied: py<2.0.0,>=1.4.26 in /home/pratzz/anaconda3/lib/python3.8/site-packages (from retry<0.10.0,>=0.9.2->pyquil~=3.0.0->cirq-rigetti==0.14.1->cirq) (1.10.0)\n",
      "Collecting msgpack<1.0,>=0.6\n",
      "  Downloading msgpack-0.6.2.tar.gz (119 kB)\n",
      "\u001b[K     |████████████████████████████████| 119 kB 3.4 MB/s eta 0:00:01\n",
      "\u001b[?25hCollecting python-rapidjson\n",
      "  Downloading python_rapidjson-1.6-cp38-cp38-manylinux_2_17_x86_64.manylinux2014_x86_64.whl (1.6 MB)\n",
      "\u001b[K     |████████████████████████████████| 1.6 MB 3.5 MB/s eta 0:00:01\n",
      "\u001b[?25hRequirement already satisfied: pyzmq>=17 in /home/pratzz/anaconda3/lib/python3.8/site-packages (from rpcq<4.0.0,>=3.6.0->pyquil~=3.0.0->cirq-rigetti==0.14.1->cirq) (22.2.1)\n",
      "Collecting ruamel.yaml\n",
      "  Downloading ruamel.yaml-0.17.21-py3-none-any.whl (109 kB)\n",
      "\u001b[K     |████████████████████████████████| 109 kB 4.3 MB/s eta 0:00:01\n",
      "\u001b[?25hRequirement already satisfied: mpmath>=0.19 in /home/pratzz/anaconda3/lib/python3.8/site-packages (from sympy<1.10->cirq-core==0.14.1->cirq) (1.2.1)\n",
      "Collecting ruamel.yaml.clib>=0.2.6\n",
      "  Downloading ruamel.yaml.clib-0.2.6-cp38-cp38-manylinux1_x86_64.whl (570 kB)\n",
      "\u001b[K     |████████████████████████████████| 570 kB 3.9 MB/s eta 0:00:01\n",
      "\u001b[?25hBuilding wheels for collected packages: lark, rpcq, msgpack\n",
      "  Building wheel for lark (setup.py) ... \u001b[?25ldone\n",
      "\u001b[?25h  Created wheel for lark: filename=lark-0.11.3-py2.py3-none-any.whl size=99648 sha256=40afe458c483d220aa3f3d57c33a6f00efff2771cf7f71934f91f0b81fe8464d\n",
      "  Stored in directory: /home/pratzz/.cache/pip/wheels/34/cb/6c/4df359c2a3f0a1af4cccae6392bee423bb5aff530103de3538\n",
      "  Building wheel for rpcq (setup.py) ... \u001b[?25ldone\n",
      "\u001b[?25h  Created wheel for rpcq: filename=rpcq-3.10.0-py3-none-any.whl size=45969 sha256=5528b22da23693b06241058bc09b3d06658b02853f54903e3c52ba1d2d05f1d3\n",
      "  Stored in directory: /home/pratzz/.cache/pip/wheels/aa/b7/02/28316b5857a90af7715a47aeb9f8be4377a124f29cb5f3f8f7\n",
      "  Building wheel for msgpack (setup.py) ... \u001b[?25ldone\n",
      "\u001b[?25h  Created wheel for msgpack: filename=msgpack-0.6.2-cp38-cp38-linux_x86_64.whl size=345494 sha256=b911075a1ea873637120e769d1b4e9e6dab43ee9eb1056e9f488c4f1d9d8478b\n",
      "  Stored in directory: /home/pratzz/.cache/pip/wheels/5d/f2/04/0d19c10080b996bef17c908a6243e6e65d8da1a4094a3f604d\n",
      "Successfully built lark rpcq msgpack\n",
      "Installing collected packages: rfc3986, idna, h11, ruamel.yaml.clib, httpcore, ruamel.yaml, rfc3339, python-rapidjson, pyjwt, pydantic, numpy, msgpack, iso8601, httpx, attrs, rpcq, retry, qcs-api-client, lark, duet, pyquil, cirq-core, cirq-web, cirq-rigetti, cirq-pasqal, cirq-ionq, cirq-google, cirq-aqt, cirq\n",
      "  Attempting uninstall: idna\n",
      "    Found existing installation: idna 3.2\n",
      "    Uninstalling idna-3.2:\n",
      "      Successfully uninstalled idna-3.2\n",
      "  Attempting uninstall: pyjwt\n",
      "    Found existing installation: PyJWT 2.1.0\n",
      "    Uninstalling PyJWT-2.1.0:\n",
      "      Successfully uninstalled PyJWT-2.1.0\n",
      "  Attempting uninstall: numpy\n",
      "    Found existing installation: numpy 1.19.5\n",
      "    Uninstalling numpy-1.19.5:\n",
      "      Successfully uninstalled numpy-1.19.5\n",
      "  Attempting uninstall: msgpack\n",
      "    Found existing installation: msgpack 1.0.2\n",
      "    Uninstalling msgpack-1.0.2:\n",
      "      Successfully uninstalled msgpack-1.0.2\n",
      "  Attempting uninstall: attrs\n",
      "    Found existing installation: attrs 21.2.0\n",
      "    Uninstalling attrs-21.2.0:\n",
      "      Successfully uninstalled attrs-21.2.0\n",
      "\u001b[31mERROR: pip's dependency resolver does not currently take into account all the packages that are installed. This behaviour is the source of the following dependency conflicts.\n",
      "tfx 1.2.0 requires absl-py<0.13,>=0.9, but you have absl-py 0.13.0 which is incompatible.\n",
      "tfx 1.2.0 requires click<8,>=7, but you have click 8.0.1 which is incompatible.\n",
      "tfx 1.2.0 requires jinja2<3,>=2.7.3, but you have jinja2 3.0.1 which is incompatible.\n",
      "tfx 1.2.0 requires numpy<1.20,>=1.16, but you have numpy 1.22.3 which is incompatible.\n",
      "tfx 1.2.0 requires packaging<21,>=20, but you have packaging 21.0 which is incompatible.\n",
      "tfx-bsl 1.2.0 requires absl-py<0.13,>=0.9, but you have absl-py 0.13.0 which is incompatible.\n",
      "tfx-bsl 1.2.0 requires numpy<1.20,>=1.16, but you have numpy 1.22.3 which is incompatible.\n",
      "tensorflow 2.5.1 requires flatbuffers~=1.12.0, but you have flatbuffers 20210226132247 which is incompatible.\n",
      "tensorflow 2.5.1 requires grpcio~=1.34.0, but you have grpcio 1.37.1 which is incompatible.\n",
      "tensorflow 2.5.1 requires numpy~=1.19.2, but you have numpy 1.22.3 which is incompatible.\n",
      "tensorflow 2.5.1 requires six~=1.15.0, but you have six 1.16.0 which is incompatible.\n",
      "tensorflow 2.5.1 requires typing-extensions~=3.7.4, but you have typing-extensions 3.10.0.2 which is incompatible.\n",
      "tensorflow-transform 1.2.0 requires absl-py<0.13,>=0.9, but you have absl-py 0.13.0 which is incompatible.\n",
      "tensorflow-transform 1.2.0 requires numpy<1.20,>=1.16, but you have numpy 1.22.3 which is incompatible.\n",
      "tensorflow-serving-api 2.6.0 requires tensorflow<3,>=2.6.0, but you have tensorflow 2.5.1 which is incompatible.\n",
      "tensorflow-model-analysis 0.33.0 requires absl-py<0.13,>=0.9, but you have absl-py 0.13.0 which is incompatible.\n",
      "tensorflow-model-analysis 0.33.0 requires numpy<1.20,>=1.16, but you have numpy 1.22.3 which is incompatible.\n",
      "tensorflow-data-validation 1.2.0 requires absl-py<0.13,>=0.9, but you have absl-py 0.13.0 which is incompatible.\n",
      "tensorflow-data-validation 1.2.0 requires joblib<0.15,>=0.12, but you have joblib 1.0.1 which is incompatible.\n",
      "tensorflow-data-validation 1.2.0 requires numpy<1.20,>=1.16, but you have numpy 1.22.3 which is incompatible.\n",
      "ml-metadata 1.2.0 requires absl-py<0.13,>=0.9, but you have absl-py 0.13.0 which is incompatible.\n",
      "apache-beam 2.32.0 requires numpy<1.21.0,>=1.14.3, but you have numpy 1.22.3 which is incompatible.\n",
      "apache-beam 2.32.0 requires typing-extensions<3.8.0,>=3.7.0, but you have typing-extensions 3.10.0.2 which is incompatible.\n",
      "aicrowd-cli 0+untagged.113.g4250cb5 requires click<8,>=7.1.2, but you have click 8.0.1 which is incompatible.\u001b[0m\n",
      "Successfully installed attrs-20.3.0 cirq-0.14.1 cirq-aqt-0.14.1 cirq-core-0.14.1 cirq-google-0.14.1 cirq-ionq-0.14.1 cirq-pasqal-0.14.1 cirq-rigetti-0.14.1 cirq-web-0.14.1 duet-0.2.5 h11-0.9.0 httpcore-0.11.1 httpx-0.15.5 idna-2.10 iso8601-0.1.16 lark-0.11.3 msgpack-0.6.2 numpy-1.22.3 pydantic-1.8.2 pyjwt-1.7.1 pyquil-3.0.1 python-rapidjson-1.6 qcs-api-client-0.8.0 retry-0.9.2 rfc3339-6.2 rfc3986-1.5.0 rpcq-3.10.0 ruamel.yaml-0.17.21 ruamel.yaml.clib-0.2.6\n"
     ]
    }
   ],
   "source": [
    "! pip install cirq"
   ]
  },
  {
   "cell_type": "code",
   "execution_count": 4,
   "id": "1a689c82",
   "metadata": {},
   "outputs": [],
   "source": [
    "import cirq\n",
    "from math import pi\n",
    "from cirq.contrib.svg import SVGCircuit"
   ]
  },
  {
   "cell_type": "markdown",
   "id": "31d408d9",
   "metadata": {},
   "source": [
    "### 1: Implementing a quantum circuit with Cirq"
   ]
  },
  {
   "cell_type": "code",
   "execution_count": 12,
   "id": "e47b5ba5",
   "metadata": {},
   "outputs": [
    {
     "name": "stdout",
     "output_type": "stream",
     "text": [
      "0: ───H───@───────────────×──────────────\n",
      "          │               │\n",
      "1: ───H───X───@───────────┼──────────────\n",
      "              │           │\n",
      "2: ───H───────X───@───────┼──────────────\n",
      "                  │       │\n",
      "3: ───H───────────X───@───┼──────────────\n",
      "                      │   │\n",
      "4: ───H───────────────X───×───Rx(0.5π)───\n"
     ]
    }
   ],
   "source": [
    "# initialising 5 qubits and circuit\n",
    "qubits = cirq.LineQubit.range(5)\n",
    "circuit = cirq.Circuit()\n",
    "\n",
    "# Apply Hadamard on every qubit\n",
    "circuit.append(cirq.H(q) for q in qubits)\n",
    "# Apply CNOT on every consecutive pair\n",
    "circuit.append(cirq.CNOT(q, q+1) for q in qubits[:-1])\n",
    "# Apply swap(0,4)\n",
    "circuit.append(cirq.SWAP(qubits[0],qubits[4]))\n",
    "# Rotate X with pi/2 on last qubit\n",
    "circuit.append(cirq.rx(pi/2).on(qubits[4]))\n",
    "print(circuit)"
   ]
  },
  {
   "cell_type": "code",
   "execution_count": 13,
   "id": "e934610a",
   "metadata": {},
   "outputs": [
    {
     "data": {
      "image/svg+xml": [
       "<svg xmlns=\"http://www.w3.org/2000/svg\" width=\"543.9494921875\" height=\"250.0\"><line x1=\"30.0\" x2=\"513.9494921875\" y1=\"25.0\" y2=\"25.0\" stroke=\"#1967d2\" stroke-width=\"1\" /><line x1=\"30.0\" x2=\"513.9494921875\" y1=\"75.0\" y2=\"75.0\" stroke=\"#1967d2\" stroke-width=\"1\" /><line x1=\"30.0\" x2=\"513.9494921875\" y1=\"125.0\" y2=\"125.0\" stroke=\"#1967d2\" stroke-width=\"1\" /><line x1=\"30.0\" x2=\"513.9494921875\" y1=\"175.0\" y2=\"175.0\" stroke=\"#1967d2\" stroke-width=\"1\" /><line x1=\"30.0\" x2=\"513.9494921875\" y1=\"225.0\" y2=\"225.0\" stroke=\"#1967d2\" stroke-width=\"1\" /><line x1=\"150.0\" x2=\"150.0\" y1=\"25.0\" y2=\"75.0\" stroke=\"black\" stroke-width=\"3\" /><line x1=\"210.0\" x2=\"210.0\" y1=\"75.0\" y2=\"125.0\" stroke=\"black\" stroke-width=\"3\" /><line x1=\"270.0\" x2=\"270.0\" y1=\"125.0\" y2=\"175.0\" stroke=\"black\" stroke-width=\"3\" /><line x1=\"330.0\" x2=\"330.0\" y1=\"175.0\" y2=\"225.0\" stroke=\"black\" stroke-width=\"3\" /><line x1=\"390.0\" x2=\"390.0\" y1=\"25.0\" y2=\"225.0\" stroke=\"black\" stroke-width=\"3\" /><rect x=\"10.0\" y=\"5.0\" width=\"40\" height=\"40\" stroke=\"black\" fill=\"white\" stroke-width=\"0\" /><text x=\"30.0\" y=\"25.0\" dominant-baseline=\"middle\" text-anchor=\"middle\" font-size=\"14px\" font-family=\"Arial\">0: </text><rect x=\"10.0\" y=\"55.0\" width=\"40\" height=\"40\" stroke=\"black\" fill=\"white\" stroke-width=\"0\" /><text x=\"30.0\" y=\"75.0\" dominant-baseline=\"middle\" text-anchor=\"middle\" font-size=\"14px\" font-family=\"Arial\">1: </text><rect x=\"10.0\" y=\"105.0\" width=\"40\" height=\"40\" stroke=\"black\" fill=\"white\" stroke-width=\"0\" /><text x=\"30.0\" y=\"125.0\" dominant-baseline=\"middle\" text-anchor=\"middle\" font-size=\"14px\" font-family=\"Arial\">2: </text><rect x=\"10.0\" y=\"155.0\" width=\"40\" height=\"40\" stroke=\"black\" fill=\"white\" stroke-width=\"0\" /><text x=\"30.0\" y=\"175.0\" dominant-baseline=\"middle\" text-anchor=\"middle\" font-size=\"14px\" font-family=\"Arial\">3: </text><rect x=\"10.0\" y=\"205.0\" width=\"40\" height=\"40\" stroke=\"black\" fill=\"white\" stroke-width=\"0\" /><text x=\"30.0\" y=\"225.0\" dominant-baseline=\"middle\" text-anchor=\"middle\" font-size=\"14px\" font-family=\"Arial\">4: </text><rect x=\"70.0\" y=\"5.0\" width=\"40\" height=\"40\" stroke=\"black\" fill=\"white\" stroke-width=\"1\" /><text x=\"90.0\" y=\"25.0\" dominant-baseline=\"middle\" text-anchor=\"middle\" font-size=\"18px\" font-family=\"Arial\">H</text><rect x=\"70.0\" y=\"55.0\" width=\"40\" height=\"40\" stroke=\"black\" fill=\"white\" stroke-width=\"1\" /><text x=\"90.0\" y=\"75.0\" dominant-baseline=\"middle\" text-anchor=\"middle\" font-size=\"18px\" font-family=\"Arial\">H</text><rect x=\"70.0\" y=\"105.0\" width=\"40\" height=\"40\" stroke=\"black\" fill=\"white\" stroke-width=\"1\" /><text x=\"90.0\" y=\"125.0\" dominant-baseline=\"middle\" text-anchor=\"middle\" font-size=\"18px\" font-family=\"Arial\">H</text><rect x=\"70.0\" y=\"155.0\" width=\"40\" height=\"40\" stroke=\"black\" fill=\"white\" stroke-width=\"1\" /><text x=\"90.0\" y=\"175.0\" dominant-baseline=\"middle\" text-anchor=\"middle\" font-size=\"18px\" font-family=\"Arial\">H</text><rect x=\"70.0\" y=\"205.0\" width=\"40\" height=\"40\" stroke=\"black\" fill=\"white\" stroke-width=\"1\" /><text x=\"90.0\" y=\"225.0\" dominant-baseline=\"middle\" text-anchor=\"middle\" font-size=\"18px\" font-family=\"Arial\">H</text><circle cx=\"150.0\" cy=\"25.0\" r=\"10.0\" /><rect x=\"130.0\" y=\"55.0\" width=\"40\" height=\"40\" stroke=\"black\" fill=\"white\" stroke-width=\"1\" /><text x=\"150.0\" y=\"75.0\" dominant-baseline=\"middle\" text-anchor=\"middle\" font-size=\"18px\" font-family=\"Arial\">X</text><circle cx=\"210.0\" cy=\"75.0\" r=\"10.0\" /><rect x=\"190.0\" y=\"105.0\" width=\"40\" height=\"40\" stroke=\"black\" fill=\"white\" stroke-width=\"1\" /><text x=\"210.0\" y=\"125.0\" dominant-baseline=\"middle\" text-anchor=\"middle\" font-size=\"18px\" font-family=\"Arial\">X</text><circle cx=\"270.0\" cy=\"125.0\" r=\"10.0\" /><rect x=\"250.0\" y=\"155.0\" width=\"40\" height=\"40\" stroke=\"black\" fill=\"white\" stroke-width=\"1\" /><text x=\"270.0\" y=\"175.0\" dominant-baseline=\"middle\" text-anchor=\"middle\" font-size=\"18px\" font-family=\"Arial\">X</text><circle cx=\"330.0\" cy=\"175.0\" r=\"10.0\" /><rect x=\"310.0\" y=\"205.0\" width=\"40\" height=\"40\" stroke=\"black\" fill=\"white\" stroke-width=\"1\" /><text x=\"330.0\" y=\"225.0\" dominant-baseline=\"middle\" text-anchor=\"middle\" font-size=\"18px\" font-family=\"Arial\">X</text><text x=\"390.0\" y=\"28.0\" dominant-baseline=\"middle\" text-anchor=\"middle\" font-size=\"40px\" font-family=\"Arial\">×</text><text x=\"390.0\" y=\"228.0\" dominant-baseline=\"middle\" text-anchor=\"middle\" font-size=\"40px\" font-family=\"Arial\">×</text><rect x=\"430.0\" y=\"205.0\" width=\"63.9494921875\" height=\"40\" stroke=\"black\" fill=\"white\" stroke-width=\"1\" /><text x=\"461.97474609375\" y=\"225.0\" dominant-baseline=\"middle\" text-anchor=\"middle\" font-size=\"14px\" font-family=\"Arial\">Rx(0.5π)</text></svg>"
      ],
      "text/plain": [
       "<cirq.contrib.svg.svg.SVGCircuit at 0x7f725dddddc0>"
      ]
     },
     "execution_count": 13,
     "metadata": {},
     "output_type": "execute_result"
    }
   ],
   "source": [
    "SVGCircuit(circuit)"
   ]
  },
  {
   "cell_type": "markdown",
   "id": "e7be66a6",
   "metadata": {},
   "source": [
    "### 2. A circuit that is a series of small cirq.Rx rotations, with probability plot of measuring the state in |0⟩"
   ]
  },
  {
   "cell_type": "code",
   "execution_count": 15,
   "id": "515a6311",
   "metadata": {},
   "outputs": [],
   "source": [
    "import numpy as np\n",
    "from matplotlib import pyplot as plt\n",
    "%matplotlib inline"
   ]
  },
  {
   "cell_type": "code",
   "execution_count": 25,
   "id": "db221429",
   "metadata": {},
   "outputs": [
    {
     "data": {
      "image/png": "[encoded data removed]",
      "text/plain": [
       "<Figure size 432x288 with 1 Axes>"
      ]
     },
     "metadata": {
      "needs_background": "light"
     },
     "output_type": "display_data"
    }
   ],
   "source": [
    "angles = np.linspace(0, 2*pi, 7200)\n",
    "prob = []\n",
    "for i in angles:\n",
    "    c = cirq.Circuit()\n",
    "    q = cirq.LineQubit.range(1)\n",
    "    s = cirq.Simulator()\n",
    "    c.append(cirq.rx(i).on(q[0]))\n",
    "    state = s.simulate(c)\n",
    "    prob.append(abs(state.final_state_vector[0])**2)\n",
    "    \n",
    "plt.plot(angles, prob)\n",
    "plt.xlabel('Angles (radians)')\n",
    "plt.ylabel('Probability')\n",
    "plt.show()"
   ]
  },
  {
   "cell_type": "code",
   "execution_count": null,
   "id": "97ebb6f8",
   "metadata": {},
   "outputs": [],
   "source": []
  }
 ],
 "metadata": {
  "kernelspec": {
   "display_name": "Python 3 (ipykernel)",
   "language": "python",
   "name": "python3"
  },
  "language_info": {
   "codemirror_mode": {
    "name": "ipython",
    "version": 3
   },
   "file_extension": ".py",
   "mimetype": "text/x-python",
   "name": "python",
   "nbconvert_exporter": "python",
   "pygments_lexer": "ipython3",
   "version": "3.8.5"
  }
 },
 "nbformat": 4,
 "nbformat_minor": 5
}
