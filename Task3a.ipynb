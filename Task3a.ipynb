{
 "cells": [
  {
   "cell_type": "code",
   "execution_count": 1,
   "id": "7039ddba",
   "metadata": {},
   "outputs": [
    {
     "data": {
      "text/plain": [
       "<module 'pkg_resources' from '/home/pratzz/Desktop/open_source/github/GSoC_2021_QMLHEP_Tasks/quantum_env/lib/python3.8/site-packages/pkg_resources/__init__.py'>"
      ]
     },
     "execution_count": 1,
     "metadata": {},
     "output_type": "execute_result"
    }
   ],
   "source": [
    "import importlib, pkg_resources\n",
    "importlib.reload(pkg_resources)"
   ]
  },
  {
   "cell_type": "code",
   "execution_count": 3,
   "id": "c27360a9",
   "metadata": {},
   "outputs": [
    {
     "name": "stdout",
     "output_type": "stream",
     "text": [
      "Collecting tensorflow\n",
      "  Downloading tensorflow-2.8.0-cp38-cp38-manylinux2010_x86_64.whl (497.6 MB)\n",
      "\u001b[2K     \u001b[38;2;114;156;31m━━━━━━━━━━━━━━━━━━━━━━━━━━━━━━━━━━━━━\u001b[0m \u001b[32m497.6/497.6 MB\u001b[0m \u001b[31m619.4 kB/s\u001b[0m eta \u001b[36m0:00:00\u001b[0mm eta \u001b[36m0:00:01\u001b[0m[36m0:00:15\u001b[0m\n",
      "\u001b[?25hCollecting cirq\n",
      "  Using cached cirq-0.14.1-py3-none-any.whl (7.8 kB)\n",
      "Requirement already satisfied: sympy in ./quantum_env/lib/python3.8/site-packages (1.8)\n",
      "Requirement already satisfied: numpy in ./quantum_env/lib/python3.8/site-packages (1.22.3)\n",
      "Requirement already satisfied: matplotlib in ./quantum_env/lib/python3.8/site-packages (3.5.1)\n",
      "Collecting libclang>=9.0.1\n",
      "  Using cached libclang-13.0.0-py2.py3-none-manylinux1_x86_64.whl (14.5 MB)\n",
      "Collecting google-pasta>=0.1.1\n",
      "  Using cached google_pasta-0.2.0-py3-none-any.whl (57 kB)\n",
      "Requirement already satisfied: six>=1.12.0 in ./quantum_env/lib/python3.8/site-packages (from tensorflow) (1.16.0)\n",
      "Collecting tensorflow-io-gcs-filesystem>=0.23.1\n",
      "  Downloading tensorflow_io_gcs_filesystem-0.24.0-cp38-cp38-manylinux_2_12_x86_64.manylinux2010_x86_64.whl (2.1 MB)\n",
      "\u001b[2K     \u001b[38;2;114;156;31m━━━━━━━━━━━━━━━━━━━━━━━━━━━━━━━━━━━━━━━━\u001b[0m \u001b[32m2.1/2.1 MB\u001b[0m \u001b[31m625.2 kB/s\u001b[0m eta \u001b[36m0:00:00\u001b[0mm eta \u001b[36m0:00:01\u001b[0m[36m0:00:01\u001b[0m\n",
      "\u001b[?25hRequirement already satisfied: typing-extensions>=3.6.6 in ./quantum_env/lib/python3.8/site-packages (from tensorflow) (4.2.0)\n",
      "Collecting grpcio<2.0,>=1.24.3\n",
      "  Downloading grpcio-1.44.0-cp38-cp38-manylinux_2_17_x86_64.manylinux2014_x86_64.whl (4.3 MB)\n",
      "\u001b[2K     \u001b[38;2;114;156;31m━━━━━━━━━━━━━━━━━━━━━━━━━━━━━━━━━━━━━━━━\u001b[0m \u001b[32m4.3/4.3 MB\u001b[0m \u001b[31m1.0 MB/s\u001b[0m eta \u001b[36m0:00:00\u001b[0mm eta \u001b[36m0:00:01\u001b[0m[36m0:00:01\u001b[0m\n",
      "\u001b[?25hCollecting flatbuffers>=1.12\n",
      "  Using cached flatbuffers-2.0-py2.py3-none-any.whl (26 kB)\n",
      "Collecting wrapt>=1.11.0\n",
      "  Downloading wrapt-1.14.0-cp38-cp38-manylinux_2_5_x86_64.manylinux1_x86_64.manylinux_2_17_x86_64.manylinux2014_x86_64.whl (80 kB)\n",
      "\u001b[2K     \u001b[38;2;114;156;31m━━━━━━━━━━━━━━━━━━━━━━━━━━━━━━━━━━━━━━━\u001b[0m \u001b[32m81.0/81.0 KB\u001b[0m \u001b[31m336.8 kB/s\u001b[0m eta \u001b[36m0:00:00\u001b[0m1m916.3 kB/s\u001b[0m eta \u001b[36m0:00:01\u001b[0m\n",
      "\u001b[?25hRequirement already satisfied: protobuf>=3.9.2 in ./quantum_env/lib/python3.8/site-packages (from tensorflow) (3.17.3)\n",
      "Collecting keras<2.9,>=2.8.0rc0\n",
      "  Using cached keras-2.8.0-py2.py3-none-any.whl (1.4 MB)\n",
      "Collecting astunparse>=1.6.0\n",
      "  Using cached astunparse-1.6.3-py2.py3-none-any.whl (12 kB)\n",
      "Collecting keras-preprocessing>=1.1.1\n",
      "  Using cached Keras_Preprocessing-1.1.2-py2.py3-none-any.whl (42 kB)\n",
      "Collecting termcolor>=1.1.0\n",
      "  Using cached termcolor-1.1.0.tar.gz (3.9 kB)\n",
      "  Preparing metadata (setup.py) ... \u001b[?25ldone\n",
      "\u001b[?25hCollecting tf-estimator-nightly==2.8.0.dev2021122109\n",
      "  Using cached tf_estimator_nightly-2.8.0.dev2021122109-py2.py3-none-any.whl (462 kB)\n",
      "Collecting absl-py>=0.4.0\n",
      "  Using cached absl_py-1.0.0-py3-none-any.whl (126 kB)\n",
      "Collecting tensorboard<2.9,>=2.8\n",
      "  Using cached tensorboard-2.8.0-py3-none-any.whl (5.8 MB)\n",
      "Collecting opt-einsum>=2.3.2\n",
      "  Using cached opt_einsum-3.3.0-py3-none-any.whl (65 kB)\n",
      "Requirement already satisfied: setuptools in ./quantum_env/lib/python3.8/site-packages (from tensorflow) (47.1.0)\n",
      "Collecting gast>=0.2.1\n",
      "  Using cached gast-0.5.3-py3-none-any.whl (19 kB)\n",
      "Collecting h5py>=2.9.0\n",
      "  Downloading h5py-3.6.0-cp38-cp38-manylinux_2_12_x86_64.manylinux2010_x86_64.whl (4.5 MB)\n",
      "\u001b[2K     \u001b[38;2;114;156;31m━━━━━━━━━━━━━━━━━━━━━━━━━━━━━━━━━━━━━━━━\u001b[0m \u001b[32m4.5/4.5 MB\u001b[0m \u001b[31m975.2 kB/s\u001b[0m eta \u001b[36m0:00:00\u001b[0meta \u001b[36m0:00:01\u001b[0m[36m0:00:01\u001b[0m\n",
      "\u001b[?25hRequirement already satisfied: cirq-google==0.14.1 in ./quantum_env/lib/python3.8/site-packages (from cirq) (0.14.1)\n",
      "Collecting cirq-ionq==0.14.1\n",
      "  Using cached cirq_ionq-0.14.1-py3-none-any.whl (48 kB)\n",
      "Collecting cirq-rigetti==0.14.1\n",
      "  Using cached cirq_rigetti-0.14.1-py3-none-any.whl (56 kB)\n",
      "Collecting cirq-aqt==0.14.1\n",
      "  Using cached cirq_aqt-0.14.1-py3-none-any.whl (19 kB)\n",
      "Requirement already satisfied: cirq-core==0.14.1 in ./quantum_env/lib/python3.8/site-packages (from cirq) (0.14.1)\n",
      "Collecting cirq-web==0.14.1\n",
      "  Using cached cirq_web-0.14.1-py3-none-any.whl (593 kB)\n",
      "Collecting cirq-pasqal==0.14.1\n",
      "  Using cached cirq_pasqal-0.14.1-py3-none-any.whl (30 kB)\n",
      "Requirement already satisfied: requests~=2.18 in ./quantum_env/lib/python3.8/site-packages (from cirq-aqt==0.14.1->cirq) (2.27.1)\n",
      "Requirement already satisfied: tqdm in ./quantum_env/lib/python3.8/site-packages (from cirq-core==0.14.1->cirq) (4.64.0)\n",
      "Requirement already satisfied: pandas in ./quantum_env/lib/python3.8/site-packages (from cirq-core==0.14.1->cirq) (1.4.2)\n",
      "Requirement already satisfied: scipy in ./quantum_env/lib/python3.8/site-packages (from cirq-core==0.14.1->cirq) (1.8.0)\n",
      "Requirement already satisfied: sortedcontainers~=2.0 in ./quantum_env/lib/python3.8/site-packages (from cirq-core==0.14.1->cirq) (2.4.0)\n",
      "Requirement already satisfied: duet~=0.2.0 in ./quantum_env/lib/python3.8/site-packages (from cirq-core==0.14.1->cirq) (0.2.5)\n",
      "Requirement already satisfied: networkx~=2.4 in ./quantum_env/lib/python3.8/site-packages (from cirq-core==0.14.1->cirq) (2.8)\n",
      "Requirement already satisfied: google-api-core[grpc]<2.0.0dev,>=1.14.0 in ./quantum_env/lib/python3.8/site-packages (from cirq-google==0.14.1->cirq) (1.21.0)\n",
      "Collecting h11~=0.9.0\n",
      "  Using cached h11-0.9.0-py2.py3-none-any.whl (53 kB)\n",
      "Collecting httpx~=0.15.5\n",
      "  Using cached httpx-0.15.5-py3-none-any.whl (65 kB)\n",
      "Collecting qcs-api-client~=0.8.0\n",
      "  Using cached qcs_api_client-0.8.0-py3-none-any.whl (97 kB)\n",
      "Collecting httpcore~=0.11.1\n",
      "  Using cached httpcore-0.11.1-py3-none-any.whl (52 kB)\n",
      "Collecting pyjwt~=1.7.1\n",
      "  Using cached PyJWT-1.7.1-py2.py3-none-any.whl (18 kB)\n",
      "Requirement already satisfied: python-dateutil~=2.8.1 in ./quantum_env/lib/python3.8/site-packages (from cirq-rigetti==0.14.1->cirq) (2.8.2)\n",
      "Collecting idna~=2.10\n",
      "  Using cached idna-2.10-py2.py3-none-any.whl (58 kB)\n",
      "Collecting retrying~=1.3.3\n",
      "  Using cached retrying-1.3.3-py3-none-any.whl\n",
      "Collecting sniffio~=1.2.0\n",
      "  Downloading sniffio-1.2.0-py3-none-any.whl (10 kB)\n",
      "Collecting toml~=0.10.2\n",
      "  Downloading toml-0.10.2-py2.py3-none-any.whl (16 kB)\n",
      "Collecting certifi~=2021.5.30\n",
      "  Downloading certifi-2021.5.30-py2.py3-none-any.whl (145 kB)\n",
      "\u001b[2K     \u001b[38;2;114;156;31m━━━━━━━━━━━━━━━━━━━━━━━━━━━━━━━━━━━━━\u001b[0m \u001b[32m145.5/145.5 KB\u001b[0m \u001b[31m604.5 kB/s\u001b[0m eta \u001b[36m0:00:00\u001b[0m[36m0:00:01\u001b[0m[36m0:00:01\u001b[0m\n",
      "\u001b[?25hCollecting pyquil~=3.0.0\n",
      "  Using cached pyquil-3.0.1-py3-none-any.whl (220 kB)\n",
      "Collecting iso8601~=0.1.14\n",
      "  Using cached iso8601-0.1.16-py2.py3-none-any.whl (10 kB)\n",
      "Collecting attrs~=20.3.0\n",
      "  Using cached attrs-20.3.0-py2.py3-none-any.whl (49 kB)\n",
      "Collecting rfc3986~=1.5.0\n",
      "  Using cached rfc3986-1.5.0-py2.py3-none-any.whl (31 kB)\n",
      "Collecting pydantic~=1.8.2\n",
      "  Using cached pydantic-1.8.2-cp38-cp38-manylinux2014_x86_64.whl (13.7 MB)\n",
      "Collecting rfc3339~=6.2\n",
      "  Using cached rfc3339-6.2-py3-none-any.whl (5.5 kB)\n",
      "Requirement already satisfied: mpmath>=0.19 in ./quantum_env/lib/python3.8/site-packages (from sympy) (1.2.1)\n",
      "Requirement already satisfied: cycler>=0.10 in ./quantum_env/lib/python3.8/site-packages (from matplotlib) (0.11.0)\n",
      "Requirement already satisfied: kiwisolver>=1.0.1 in ./quantum_env/lib/python3.8/site-packages (from matplotlib) (1.4.2)\n",
      "Requirement already satisfied: pyparsing>=2.2.1 in ./quantum_env/lib/python3.8/site-packages (from matplotlib) (3.0.8)\n",
      "Requirement already satisfied: packaging>=20.0 in ./quantum_env/lib/python3.8/site-packages (from matplotlib) (21.3)\n",
      "Requirement already satisfied: pillow>=6.2.0 in ./quantum_env/lib/python3.8/site-packages (from matplotlib) (9.1.0)\n",
      "Requirement already satisfied: fonttools>=4.22.0 in ./quantum_env/lib/python3.8/site-packages (from matplotlib) (4.32.0)\n",
      "Collecting wheel<1.0,>=0.23.0\n",
      "  Downloading wheel-0.37.1-py2.py3-none-any.whl (35 kB)\n",
      "Collecting werkzeug>=0.11.15\n",
      "  Using cached Werkzeug-2.1.1-py3-none-any.whl (224 kB)\n",
      "Collecting tensorboard-plugin-wit>=1.6.0\n",
      "  Using cached tensorboard_plugin_wit-1.8.1-py3-none-any.whl (781 kB)\n",
      "Requirement already satisfied: google-auth<3,>=1.6.3 in ./quantum_env/lib/python3.8/site-packages (from tensorboard<2.9,>=2.8->tensorflow) (1.18.0)\n",
      "Collecting tensorboard-data-server<0.7.0,>=0.6.0\n",
      "  Using cached tensorboard_data_server-0.6.1-py3-none-manylinux2010_x86_64.whl (4.9 MB)\n"
     ]
    },
    {
     "name": "stdout",
     "output_type": "stream",
     "text": [
      "Collecting markdown>=2.6.8\n",
      "  Using cached Markdown-3.3.6-py3-none-any.whl (97 kB)\n",
      "Collecting google-auth-oauthlib<0.5,>=0.4.1\n",
      "  Using cached google_auth_oauthlib-0.4.6-py2.py3-none-any.whl (18 kB)\n",
      "Requirement already satisfied: googleapis-common-protos<2.0dev,>=1.6.0 in ./quantum_env/lib/python3.8/site-packages (from google-api-core[grpc]<2.0.0dev,>=1.14.0->cirq-google==0.14.1->cirq) (1.52.0)\n",
      "Requirement already satisfied: pytz in ./quantum_env/lib/python3.8/site-packages (from google-api-core[grpc]<2.0.0dev,>=1.14.0->cirq-google==0.14.1->cirq) (2022.1)\n",
      "Requirement already satisfied: cachetools<5.0,>=2.0.0 in ./quantum_env/lib/python3.8/site-packages (from google-auth<3,>=1.6.3->tensorboard<2.9,>=2.8->tensorflow) (4.2.4)\n",
      "Requirement already satisfied: rsa<5,>=3.1.4 in ./quantum_env/lib/python3.8/site-packages (from google-auth<3,>=1.6.3->tensorboard<2.9,>=2.8->tensorflow) (4.8)\n",
      "Requirement already satisfied: pyasn1-modules>=0.2.1 in ./quantum_env/lib/python3.8/site-packages (from google-auth<3,>=1.6.3->tensorboard<2.9,>=2.8->tensorflow) (0.2.8)\n",
      "Collecting requests-oauthlib>=0.7.0\n",
      "  Using cached requests_oauthlib-1.3.1-py2.py3-none-any.whl (23 kB)\n",
      "Collecting importlib-metadata>=4.4\n",
      "  Using cached importlib_metadata-4.11.3-py3-none-any.whl (18 kB)\n",
      "Collecting lark<0.12.0,>=0.11.1\n",
      "  Using cached lark-0.11.3-py2.py3-none-any.whl\n",
      "Collecting rpcq<4.0.0,>=3.6.0\n",
      "  Using cached rpcq-3.10.0-py3-none-any.whl\n",
      "Collecting retry<0.10.0,>=0.9.2\n",
      "  Using cached retry-0.9.2-py2.py3-none-any.whl (8.0 kB)\n",
      "Requirement already satisfied: charset-normalizer~=2.0.0 in ./quantum_env/lib/python3.8/site-packages (from requests~=2.18->cirq-aqt==0.14.1->cirq) (2.0.12)\n",
      "Requirement already satisfied: urllib3<1.27,>=1.21.1 in ./quantum_env/lib/python3.8/site-packages (from requests~=2.18->cirq-aqt==0.14.1->cirq) (1.26.9)\n",
      "Requirement already satisfied: zipp>=0.5 in ./quantum_env/lib/python3.8/site-packages (from importlib-metadata>=4.4->markdown>=2.6.8->tensorboard<2.9,>=2.8->tensorflow) (3.8.0)\n",
      "Requirement already satisfied: pyasn1<0.5.0,>=0.4.6 in ./quantum_env/lib/python3.8/site-packages (from pyasn1-modules>=0.2.1->google-auth<3,>=1.6.3->tensorboard<2.9,>=2.8->tensorflow) (0.4.8)\n",
      "Collecting oauthlib>=3.0.0\n",
      "  Using cached oauthlib-3.2.0-py3-none-any.whl (151 kB)\n",
      "Collecting py<2.0.0,>=1.4.26\n",
      "  Downloading py-1.11.0-py2.py3-none-any.whl (98 kB)\n",
      "\u001b[2K     \u001b[38;2;114;156;31m━━━━━━━━━━━━━━━━━━━━━━━━━━━━━━━━━━━━━━━\u001b[0m \u001b[32m98.7/98.7 KB\u001b[0m \u001b[31m166.9 kB/s\u001b[0m eta \u001b[36m0:00:00\u001b[0m kB/s\u001b[0m eta \u001b[36m0:00:01\u001b[0m\n",
      "\u001b[?25hRequirement already satisfied: decorator>=3.4.2 in ./quantum_env/lib/python3.8/site-packages (from retry<0.10.0,>=0.9.2->pyquil~=3.0.0->cirq-rigetti==0.14.1->cirq) (5.1.1)\n",
      "Collecting ruamel.yaml\n",
      "  Using cached ruamel.yaml-0.17.21-py3-none-any.whl (109 kB)\n",
      "Collecting python-rapidjson\n",
      "  Using cached python_rapidjson-1.6-cp38-cp38-manylinux_2_17_x86_64.manylinux2014_x86_64.whl (1.6 MB)\n",
      "Requirement already satisfied: pyzmq>=17 in ./quantum_env/lib/python3.8/site-packages (from rpcq<4.0.0,>=3.6.0->pyquil~=3.0.0->cirq-rigetti==0.14.1->cirq) (22.3.0)\n",
      "Collecting msgpack<1.0,>=0.6\n",
      "  Using cached msgpack-0.6.2-cp38-cp38-linux_x86_64.whl\n",
      "Collecting ruamel.yaml.clib>=0.2.6\n",
      "  Using cached ruamel.yaml.clib-0.2.6-cp38-cp38-manylinux1_x86_64.whl (570 kB)\n",
      "Using legacy 'setup.py install' for termcolor, since package 'wheel' is not installed.\n",
      "Installing collected packages: tf-estimator-nightly, termcolor, tensorboard-plugin-wit, rfc3986, rfc3339, pyjwt, msgpack, libclang, lark, keras, iso8601, h11, flatbuffers, certifi, wrapt, wheel, werkzeug, toml, tensorflow-io-gcs-filesystem, tensorboard-data-server, sniffio, ruamel.yaml.clib, retrying, python-rapidjson, pydantic, py, opt-einsum, oauthlib, keras-preprocessing, importlib-metadata, idna, h5py, grpcio, google-pasta, gast, attrs, absl-py, ruamel.yaml, retry, markdown, httpcore, astunparse, rpcq, requests-oauthlib, httpx, qcs-api-client, google-auth-oauthlib, cirq-web, cirq-pasqal, cirq-ionq, cirq-aqt, tensorboard, pyquil, tensorflow, cirq-rigetti, cirq\n",
      "  Running setup.py install for termcolor ... \u001b[?25ldone\n",
      "\u001b[?25h  Attempting uninstall: certifi\n",
      "    Found existing installation: certifi 2021.10.8\n",
      "    Uninstalling certifi-2021.10.8:\n",
      "      Successfully uninstalled certifi-2021.10.8\n",
      "  Attempting uninstall: idna\n",
      "    Found existing installation: idna 3.3\n",
      "    Uninstalling idna-3.3:\n",
      "      Successfully uninstalled idna-3.3\n",
      "  Attempting uninstall: attrs\n",
      "    Found existing installation: attrs 21.4.0\n",
      "    Uninstalling attrs-21.4.0:\n",
      "      Successfully uninstalled attrs-21.4.0\n",
      "Successfully installed absl-py-1.0.0 astunparse-1.6.3 attrs-20.3.0 certifi-2021.5.30 cirq-0.14.1 cirq-aqt-0.14.1 cirq-ionq-0.14.1 cirq-pasqal-0.14.1 cirq-rigetti-0.14.1 cirq-web-0.14.1 flatbuffers-2.0 gast-0.5.3 google-auth-oauthlib-0.4.6 google-pasta-0.2.0 grpcio-1.44.0 h11-0.9.0 h5py-3.6.0 httpcore-0.11.1 httpx-0.15.5 idna-2.10 importlib-metadata-4.11.3 iso8601-0.1.16 keras-2.8.0 keras-preprocessing-1.1.2 lark-0.11.3 libclang-13.0.0 markdown-3.3.6 msgpack-0.6.2 oauthlib-3.2.0 opt-einsum-3.3.0 py-1.11.0 pydantic-1.8.2 pyjwt-1.7.1 pyquil-3.0.1 python-rapidjson-1.6 qcs-api-client-0.8.0 requests-oauthlib-1.3.1 retry-0.9.2 retrying-1.3.3 rfc3339-6.2 rfc3986-1.5.0 rpcq-3.10.0 ruamel.yaml-0.17.21 ruamel.yaml.clib-0.2.6 sniffio-1.2.0 tensorboard-2.8.0 tensorboard-data-server-0.6.1 tensorboard-plugin-wit-1.8.1 tensorflow-2.8.0 tensorflow-io-gcs-filesystem-0.24.0 termcolor-1.1.0 tf-estimator-nightly-2.8.0.dev2021122109 toml-0.10.2 werkzeug-2.1.1 wheel-0.37.1 wrapt-1.14.0\n"
     ]
    }
   ],
   "source": [
    "! pip install tensorflow cirq sympy numpy matplotlib"
   ]
  },
  {
   "cell_type": "code",
   "execution_count": 4,
   "id": "a8a88d35",
   "metadata": {},
   "outputs": [
    {
     "name": "stderr",
     "output_type": "stream",
     "text": [
      "2022-04-19 21:40:26.107804: W tensorflow/stream_executor/platform/default/dso_loader.cc:64] Could not load dynamic library 'libcudart.so.11.0'; dlerror: libcudart.so.11.0: cannot open shared object file: No such file or directory\n",
      "2022-04-19 21:40:26.107828: I tensorflow/stream_executor/cuda/cudart_stub.cc:29] Ignore above cudart dlerror if you do not have a GPU set up on your machine.\n",
      "2022-04-19 21:40:45.424063: E tensorflow/stream_executor/cuda/cuda_driver.cc:271] failed call to cuInit: CUDA_ERROR_NO_DEVICE: no CUDA-capable device is detected\n",
      "2022-04-19 21:40:45.424133: I tensorflow/stream_executor/cuda/cuda_diagnostics.cc:156] kernel driver does not appear to be running on this host (vivobook): /proc/driver/nvidia/version does not exist\n",
      "2022-04-19 21:40:45.424748: I tensorflow/core/platform/cpu_feature_guard.cc:151] This TensorFlow binary is optimized with oneAPI Deep Neural Network Library (oneDNN) to use the following CPU instructions in performance-critical operations:  AVX2 FMA\n",
      "To enable them in other operations, rebuild TensorFlow with the appropriate compiler flags.\n"
     ]
    }
   ],
   "source": [
    "import tensorflow as tf\n",
    "import tensorflow_quantum as tfq\n",
    "\n",
    "import cirq\n",
    "import sympy\n",
    "import numpy as np\n",
    "\n",
    "# visualization tools\n",
    "%matplotlib inline\n",
    "import matplotlib.pyplot as plt\n",
    "from cirq.contrib.svg import SVGCircuit"
   ]
  },
  {
   "cell_type": "code",
   "execution_count": 6,
   "id": "1891dd6b",
   "metadata": {},
   "outputs": [],
   "source": [
    "import random\n",
    "from itertools import product"
   ]
  },
  {
   "cell_type": "code",
   "execution_count": 9,
   "id": "65c901c4",
   "metadata": {},
   "outputs": [],
   "source": [
    "def layer(qs, params):\n",
    "    circ = cirq.Circuit()\n",
    "    for i in reversed(range(len(qs)-1)):\n",
    "        circ += cirq.CNOT(qs[i], qs[i+1])\n",
    "    for i in range(len(qs)):\n",
    "        circ += cirq.ry(params[2*i]).on(qs[i])\n",
    "        circ += cirq.rz(params[2*i + 1]).on(qs[i])\n",
    "    return circ"
   ]
  },
  {
   "cell_type": "code",
   "execution_count": 10,
   "id": "6b13048a",
   "metadata": {},
   "outputs": [],
   "source": [
    "def make_circuit(qs, state, latent, params, depth, swap_qubit, reference_qubits):\n",
    "    c = cirq.Circuit()\n",
    "    enc_params = params[:len(params) // 2]\n",
    "    dec_params = params[len(params) // 2:]\n",
    "    for i in range(depth):\n",
    "        c += layer(qs[:state], enc_params[2 * i * state:2 * (i + 1) * state])\n",
    "    for i in range(depth):\n",
    "        c += layer(qs[state - latent:], dec_params[2 * i * state:2 * (i + 1) * state])\n",
    "    # SWAP Test\n",
    "    c += cirq.H(swap_qubit)\n",
    "    for i, j in product(range(state), range(state - latent, len(qs))):\n",
    "        #c += cirq.CSWAP(swap_qubit, reference_qubits[i], qs[j])\n",
    "        c += cirq.ControlledGate(sub_gate=cirq.SWAP, num_controls=1).on(swap_qubit, reference_qubits[i], qs[j])\n",
    "    c += cirq.H(swap_qubit)\n",
    "    return c"
   ]
  },
  {
   "cell_type": "code",
   "execution_count": 11,
   "id": "bec32727",
   "metadata": {},
   "outputs": [
    {
     "name": "stdout",
     "output_type": "stream",
     "text": [
      "12\n"
     ]
    }
   ],
   "source": [
    "state_qubits = 4\n",
    "latent_qubits = 1\n",
    "total_qubits = state_qubits + (state_qubits - latent_qubits)\n",
    "qubits = [cirq.GridQubit(0, i) for i in range(total_qubits + 1 + state_qubits)]\n",
    "print(len(qubits))"
   ]
  },
  {
   "cell_type": "code",
   "execution_count": 17,
   "id": "b2f576fd",
   "metadata": {},
   "outputs": [
    {
     "name": "stdout",
     "output_type": "stream",
     "text": [
      "100\n"
     ]
    }
   ],
   "source": [
    "dataset = np.load(\"electron-photon.npz\")\n",
    "print(len(dataset[\"x_train\"]))"
   ]
  },
  {
   "cell_type": "code",
   "execution_count": 18,
   "id": "88f53c49",
   "metadata": {},
   "outputs": [],
   "source": [
    "train_circuits = [dataset[\"x_train\"][i]  + dataset[\"y_train\"][i] for i in range(100)]\n",
    "test_circuits = [dataset[\"x_test\"][i] + dataset[\"y_test\"][i] for i in range(100)]"
   ]
  },
  {
   "cell_type": "code",
   "execution_count": null,
   "id": "42287e9a",
   "metadata": {},
   "outputs": [],
   "source": []
  }
 ],
 "metadata": {
  "kernelspec": {
   "display_name": "Python 3 (ipykernel)",
   "language": "python",
   "name": "python3"
  },
  "language_info": {
   "codemirror_mode": {
    "name": "ipython",
    "version": 3
   },
   "file_extension": ".py",
   "mimetype": "text/x-python",
   "name": "python",
   "nbconvert_exporter": "python",
   "pygments_lexer": "ipython3",
   "version": "3.8.5"
  }
 },
 "nbformat": 4,
 "nbformat_minor": 5
}
