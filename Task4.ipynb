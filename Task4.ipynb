{
 "cells": [
  {
   "cell_type": "code",
   "execution_count": 1,
   "id": "e5464351",
   "metadata": {},
   "outputs": [
    {
     "name": "stdout",
     "output_type": "stream",
     "text": [
      "Looking in links: https://download.pytorch.org/whl/torch_stable.html\n",
      "Collecting torch==1.5.1+cu101\n",
      "  Downloading https://download.pytorch.org/whl/cu101/torch-1.5.1%2Bcu101-cp38-cp38-linux_x86_64.whl (704.4 MB)\n",
      "\u001b[K     |████████████████████████████████| 704.4 MB 5.7 kB/s  eta 0:00:01    |████▍                           | 97.1 MB 212 kB/s eta 0:47:38     |███████████████████████▊        | 521.0 MB 10.1 MB/s eta 0:00:19\n",
      "\u001b[?25hCollecting torchvision==0.6.1+cu101\n",
      "  Downloading https://download.pytorch.org/whl/cu101/torchvision-0.6.1%2Bcu101-cp38-cp38-linux_x86_64.whl (6.6 MB)\n",
      "\u001b[K     |████████████████████████████████| 6.6 MB 187 kB/s eta 0:00:01\n",
      "\u001b[?25hRequirement already satisfied: numpy in /home/pratzz/anaconda3/lib/python3.8/site-packages (from torch==1.5.1+cu101) (1.22.3)\n",
      "Requirement already satisfied: future in /home/pratzz/anaconda3/lib/python3.8/site-packages (from torch==1.5.1+cu101) (0.18.2)\n",
      "Requirement already satisfied: pillow>=4.1.1 in /home/pratzz/anaconda3/lib/python3.8/site-packages (from torchvision==0.6.1+cu101) (8.3.1)\n",
      "Installing collected packages: torch, torchvision\n",
      "  Attempting uninstall: torch\n",
      "    Found existing installation: torch 1.10.0\n",
      "    Uninstalling torch-1.10.0:\n",
      "      Successfully uninstalled torch-1.10.0\n",
      "  Attempting uninstall: torchvision\n",
      "    Found existing installation: torchvision 0.11.1\n",
      "    Uninstalling torchvision-0.11.1:\n",
      "      Successfully uninstalled torchvision-0.11.1\n",
      "Successfully installed torch-1.5.1+cu101 torchvision-0.6.1+cu101\n"
     ]
    }
   ],
   "source": [
    "!pip install torch==1.5.1+cu101 torchvision==0.6.1+cu101 -f https://download.pytorch.org/whl/torch_stable.html"
   ]
  },
  {
   "cell_type": "code",
   "execution_count": 2,
   "id": "c4f8743a",
   "metadata": {},
   "outputs": [
    {
     "name": "stdout",
     "output_type": "stream",
     "text": [
      "Looking in links: https://data.pyg.org/whl/torch-1.10.0+cu111.html\n",
      "Collecting torch-scatter\n",
      "  Downloading https://data.pyg.org/whl/torch-1.10.0%2Bcu113/torch_scatter-2.0.9-cp38-cp38-linux_x86_64.whl (7.9 MB)\n",
      "\u001b[K     |████████████████████████████████| 7.9 MB 1.6 MB/s eta 0:00:01\n",
      "\u001b[?25hCollecting torch-sparse\n",
      "  Downloading https://data.pyg.org/whl/torch-1.10.0%2Bcu113/torch_sparse-0.6.13-cp38-cp38-linux_x86_64.whl (3.5 MB)\n",
      "\u001b[K     |████████████████████████████████| 3.5 MB 13.0 MB/s eta 0:00:01\n",
      "\u001b[?25hCollecting torch-cluster\n",
      "  Downloading https://data.pyg.org/whl/torch-1.10.0%2Bcu113/torch_cluster-1.6.0-cp38-cp38-linux_x86_64.whl (2.5 MB)\n",
      "\u001b[K     |████████████████████████████████| 2.5 MB 12.8 MB/s eta 0:00:01\n",
      "\u001b[?25hCollecting torch-spline-conv\n",
      "  Downloading https://data.pyg.org/whl/torch-1.10.0%2Bcu113/torch_spline_conv-1.2.1-cp38-cp38-linux_x86_64.whl (750 kB)\n",
      "\u001b[K     |████████████████████████████████| 750 kB 191 kB/s eta 0:00:01\n",
      "\u001b[?25hCollecting torch-geometric\n",
      "  Downloading torch_geometric-2.0.4.tar.gz (407 kB)\n",
      "\u001b[K     |████████████████████████████████| 407 kB 3.6 MB/s eta 0:00:01\n",
      "\u001b[?25hRequirement already satisfied: tqdm in /home/pratzz/anaconda3/lib/python3.8/site-packages (from torch-geometric) (4.62.2)\n",
      "Requirement already satisfied: numpy in /home/pratzz/anaconda3/lib/python3.8/site-packages (from torch-geometric) (1.22.3)\n",
      "Requirement already satisfied: scipy in /home/pratzz/anaconda3/lib/python3.8/site-packages (from torch-geometric) (1.7.1)\n",
      "Requirement already satisfied: pandas in /home/pratzz/anaconda3/lib/python3.8/site-packages (from torch-geometric) (1.3.2)\n",
      "Requirement already satisfied: jinja2 in /home/pratzz/anaconda3/lib/python3.8/site-packages (from torch-geometric) (3.0.1)\n",
      "Requirement already satisfied: requests in /home/pratzz/anaconda3/lib/python3.8/site-packages (from torch-geometric) (2.26.0)\n",
      "Requirement already satisfied: pyparsing in /home/pratzz/anaconda3/lib/python3.8/site-packages (from torch-geometric) (2.4.7)\n",
      "Requirement already satisfied: scikit-learn in /home/pratzz/anaconda3/lib/python3.8/site-packages (from torch-geometric) (0.24.2)\n",
      "Requirement already satisfied: MarkupSafe>=2.0 in /home/pratzz/anaconda3/lib/python3.8/site-packages (from jinja2->torch-geometric) (2.0.1)\n",
      "Requirement already satisfied: python-dateutil>=2.7.3 in /home/pratzz/anaconda3/lib/python3.8/site-packages (from pandas->torch-geometric) (2.8.2)\n",
      "Requirement already satisfied: pytz>=2017.3 in /home/pratzz/anaconda3/lib/python3.8/site-packages (from pandas->torch-geometric) (2021.1)\n",
      "Requirement already satisfied: six>=1.5 in /home/pratzz/anaconda3/lib/python3.8/site-packages (from python-dateutil>=2.7.3->pandas->torch-geometric) (1.16.0)\n",
      "Requirement already satisfied: certifi>=2017.4.17 in /home/pratzz/anaconda3/lib/python3.8/site-packages (from requests->torch-geometric) (2021.5.30)\n",
      "Requirement already satisfied: urllib3<1.27,>=1.21.1 in /home/pratzz/anaconda3/lib/python3.8/site-packages (from requests->torch-geometric) (1.26.6)\n",
      "Requirement already satisfied: charset-normalizer~=2.0.0 in /home/pratzz/anaconda3/lib/python3.8/site-packages (from requests->torch-geometric) (2.0.4)\n",
      "Requirement already satisfied: idna<4,>=2.5 in /home/pratzz/anaconda3/lib/python3.8/site-packages (from requests->torch-geometric) (2.10)\n",
      "Requirement already satisfied: joblib>=0.11 in /home/pratzz/anaconda3/lib/python3.8/site-packages (from scikit-learn->torch-geometric) (1.0.1)\n",
      "Requirement already satisfied: threadpoolctl>=2.0.0 in /home/pratzz/anaconda3/lib/python3.8/site-packages (from scikit-learn->torch-geometric) (2.2.0)\n",
      "Building wheels for collected packages: torch-geometric\n",
      "  Building wheel for torch-geometric (setup.py) ... \u001b[?25ldone\n",
      "\u001b[?25h  Created wheel for torch-geometric: filename=torch_geometric-2.0.4-py3-none-any.whl size=616603 sha256=c8ba3e49c57b44fcc7ef575269d6ed052d016e29180d2de261d14fc0b9367c59\n",
      "  Stored in directory: /home/pratzz/.cache/pip/wheels/c1/be/e9/b90ded2a496c975a539af002fe1f0f2a22a97af13b41866d6e\n",
      "Successfully built torch-geometric\n",
      "Installing collected packages: torch-spline-conv, torch-sparse, torch-scatter, torch-geometric, torch-cluster\n",
      "Successfully installed torch-cluster-1.6.0 torch-geometric-2.0.4 torch-scatter-2.0.9 torch-sparse-0.6.13 torch-spline-conv-1.2.1\n"
     ]
    }
   ],
   "source": [
    "! pip install torch-scatter torch-sparse torch-cluster torch-spline-conv torch-geometric -f https://data.pyg.org/whl/torch-1.10.0+cu111.html"
   ]
  },
  {
   "cell_type": "code",
   "execution_count": 3,
   "id": "c8ed72f4",
   "metadata": {},
   "outputs": [
    {
     "name": "stdout",
     "output_type": "stream",
     "text": [
      "Collecting energyflow\n",
      "  Downloading EnergyFlow-1.3.2-py2.py3-none-any.whl (700 kB)\n",
      "\u001b[K     |████████████████████████████████| 700 kB 3.5 MB/s eta 0:00:01\n",
      "\u001b[?25hRequirement already satisfied: six>=1.10.0 in /home/pratzz/anaconda3/lib/python3.8/site-packages (from energyflow) (1.16.0)\n",
      "Requirement already satisfied: numpy>=1.16.0 in /home/pratzz/anaconda3/lib/python3.8/site-packages (from energyflow) (1.22.3)\n",
      "Requirement already satisfied: h5py>=2.9.0 in /home/pratzz/anaconda3/lib/python3.8/site-packages (from energyflow) (3.1.0)\n",
      "Collecting wasserstein>=0.3.1\n",
      "  Downloading Wasserstein-1.0.1-cp38-cp38-manylinux_2_12_x86_64.manylinux2010_x86_64.whl (430 kB)\n",
      "\u001b[K     |████████████████████████████████| 430 kB 10.8 MB/s eta 0:00:01\n",
      "\u001b[?25hRequirement already satisfied: wurlitzer>=2.0.0 in /home/pratzz/anaconda3/lib/python3.8/site-packages (from wasserstein>=0.3.1->energyflow) (2.1.1)\n",
      "Installing collected packages: wasserstein, energyflow\n",
      "Successfully installed energyflow-1.3.2 wasserstein-1.0.1\n"
     ]
    }
   ],
   "source": [
    "! pip install energyflow"
   ]
  },
  {
   "cell_type": "code",
   "execution_count": 1,
   "id": "586c4712",
   "metadata": {},
   "outputs": [],
   "source": [
    "import energyflow"
   ]
  },
  {
   "cell_type": "code",
   "execution_count": 2,
   "id": "2688bd1f",
   "metadata": {},
   "outputs": [],
   "source": [
    "samples = energyflow.qg_jets.load(num_data=100000, pad=True, ncol=4, generator='pythia',\n",
    "                        with_bc=False, cache_dir='~/.energyflow')"
   ]
  },
  {
   "cell_type": "markdown",
   "id": "347f5c73",
   "metadata": {},
   "source": [
    "### Data Preprocessing"
   ]
  },
  {
   "cell_type": "code",
   "execution_count": 3,
   "id": "67ee2627",
   "metadata": {},
   "outputs": [],
   "source": [
    "import numpy as np\n",
    "import pandas as pd"
   ]
  },
  {
   "cell_type": "code",
   "execution_count": 8,
   "id": "acc33f51",
   "metadata": {},
   "outputs": [
    {
     "name": "stdout",
     "output_type": "stream",
     "text": [
      "100000\n"
     ]
    }
   ],
   "source": [
    "print(len(samples[0]))"
   ]
  },
  {
   "cell_type": "code",
   "execution_count": 9,
   "id": "f56e89f2",
   "metadata": {},
   "outputs": [
    {
     "name": "stdout",
     "output_type": "stream",
     "text": [
      "[1. 1. 1. ... 1. 0. 0.]\n"
     ]
    }
   ],
   "source": [
    "print(samples[1])"
   ]
  },
  {
   "cell_type": "code",
   "execution_count": 10,
   "id": "a0f71972",
   "metadata": {},
   "outputs": [
    {
     "data": {
      "text/plain": [
       "array([[<AxesSubplot:title={'center':'0'}>]], dtype=object)"
      ]
     },
     "execution_count": 10,
     "metadata": {},
     "output_type": "execute_result"
    },
    {
     "data": {
      "image/png": "[encoded data removed]",
      "text/plain": [
       "<Figure size 432x288 with 1 Axes>"
      ]
     },
     "metadata": {
      "needs_background": "light"
     },
     "output_type": "display_data"
    }
   ],
   "source": [
    "y = pd.DataFrame(samples[1])\n",
    "y.hist()"
   ]
  },
  {
   "cell_type": "code",
   "execution_count": 12,
   "id": "38bbdcac",
   "metadata": {},
   "outputs": [
    {
     "data": {
      "text/html": [
       "<div>\n",
       "<style scoped>\n",
       "    .dataframe tbody tr th:only-of-type {\n",
       "        vertical-align: middle;\n",
       "    }\n",
       "\n",
       "    .dataframe tbody tr th {\n",
       "        vertical-align: top;\n",
       "    }\n",
       "\n",
       "    .dataframe thead th {\n",
       "        text-align: right;\n",
       "    }\n",
       "</style>\n",
       "<table border=\"1\" class=\"dataframe\">\n",
       "  <thead>\n",
       "    <tr style=\"text-align: right;\">\n",
       "      <th></th>\n",
       "      <th>pt</th>\n",
       "      <th>eta</th>\n",
       "      <th>azimuthal</th>\n",
       "      <th>pgdid</th>\n",
       "      <th>y</th>\n",
       "    </tr>\n",
       "  </thead>\n",
       "  <tbody>\n",
       "    <tr>\n",
       "      <th>0</th>\n",
       "      <td>0.268769</td>\n",
       "      <td>0.356903</td>\n",
       "      <td>4.741387</td>\n",
       "      <td>22.0</td>\n",
       "      <td>1.0</td>\n",
       "    </tr>\n",
       "    <tr>\n",
       "      <th>1</th>\n",
       "      <td>1.212663</td>\n",
       "      <td>-0.112853</td>\n",
       "      <td>3.047088</td>\n",
       "      <td>-211.0</td>\n",
       "      <td>1.0</td>\n",
       "    </tr>\n",
       "    <tr>\n",
       "      <th>2</th>\n",
       "      <td>0.216829</td>\n",
       "      <td>-0.997057</td>\n",
       "      <td>0.532569</td>\n",
       "      <td>22.0</td>\n",
       "      <td>1.0</td>\n",
       "    </tr>\n",
       "    <tr>\n",
       "      <th>3</th>\n",
       "      <td>0.413806</td>\n",
       "      <td>0.956889</td>\n",
       "      <td>5.742566</td>\n",
       "      <td>211.0</td>\n",
       "      <td>1.0</td>\n",
       "    </tr>\n",
       "    <tr>\n",
       "      <th>4</th>\n",
       "      <td>0.476434</td>\n",
       "      <td>-0.403307</td>\n",
       "      <td>4.126747</td>\n",
       "      <td>22.0</td>\n",
       "      <td>1.0</td>\n",
       "    </tr>\n",
       "    <tr>\n",
       "      <th>5</th>\n",
       "      <td>7.702450</td>\n",
       "      <td>-0.819775</td>\n",
       "      <td>5.794888</td>\n",
       "      <td>321.0</td>\n",
       "      <td>0.0</td>\n",
       "    </tr>\n",
       "    <tr>\n",
       "      <th>6</th>\n",
       "      <td>0.235739</td>\n",
       "      <td>-1.094473</td>\n",
       "      <td>5.626174</td>\n",
       "      <td>211.0</td>\n",
       "      <td>1.0</td>\n",
       "    </tr>\n",
       "    <tr>\n",
       "      <th>7</th>\n",
       "      <td>0.317746</td>\n",
       "      <td>0.245092</td>\n",
       "      <td>1.284100</td>\n",
       "      <td>211.0</td>\n",
       "      <td>1.0</td>\n",
       "    </tr>\n",
       "    <tr>\n",
       "      <th>8</th>\n",
       "      <td>0.879651</td>\n",
       "      <td>0.109774</td>\n",
       "      <td>3.468267</td>\n",
       "      <td>211.0</td>\n",
       "      <td>1.0</td>\n",
       "    </tr>\n",
       "    <tr>\n",
       "      <th>9</th>\n",
       "      <td>0.160245</td>\n",
       "      <td>-1.455975</td>\n",
       "      <td>3.670505</td>\n",
       "      <td>22.0</td>\n",
       "      <td>1.0</td>\n",
       "    </tr>\n",
       "  </tbody>\n",
       "</table>\n",
       "</div>"
      ],
      "text/plain": [
       "         pt       eta  azimuthal  pgdid    y\n",
       "0  0.268769  0.356903   4.741387   22.0  1.0\n",
       "1  1.212663 -0.112853   3.047088 -211.0  1.0\n",
       "2  0.216829 -0.997057   0.532569   22.0  1.0\n",
       "3  0.413806  0.956889   5.742566  211.0  1.0\n",
       "4  0.476434 -0.403307   4.126747   22.0  1.0\n",
       "5  7.702450 -0.819775   5.794888  321.0  0.0\n",
       "6  0.235739 -1.094473   5.626174  211.0  1.0\n",
       "7  0.317746  0.245092   1.284100  211.0  1.0\n",
       "8  0.879651  0.109774   3.468267  211.0  1.0\n",
       "9  0.160245 -1.455975   3.670505   22.0  1.0"
      ]
     },
     "execution_count": 12,
     "metadata": {},
     "output_type": "execute_result"
    }
   ],
   "source": [
    "X=[]\n",
    "for i in samples[0]:\n",
    "    X.append(i[0])\n",
    "X=pd.DataFrame(X,columns=[\"pt\",\"eta\",\"azimuthal\",\"pgdid\"])\n",
    "y=pd.DataFrame(samples[1],columns=[\"Y\"])\n",
    "X[\"y\"]=y\n",
    "\n",
    "X.head(10)"
   ]
  },
  {
   "cell_type": "code",
   "execution_count": 14,
   "id": "7b2723af",
   "metadata": {},
   "outputs": [
    {
     "data": {
      "text/plain": [
       "<AxesSubplot:>"
      ]
     },
     "execution_count": 14,
     "metadata": {},
     "output_type": "execute_result"
    },
    {
     "data": {
      "image/png": "[encoded data removed]",
      "text/plain": [
       "<Figure size 432x288 with 1 Axes>"
      ]
     },
     "metadata": {
      "needs_background": "light"
     },
     "output_type": "display_data"
    }
   ],
   "source": [
    "X = X[:50000]\n",
    "y = X[\"y\"]\n",
    "X = X.drop([\"y\"], axis=1)\n",
    "y.hist()"
   ]
  },
  {
   "cell_type": "code",
   "execution_count": 15,
   "id": "804a4d62",
   "metadata": {},
   "outputs": [],
   "source": [
    "from sklearn.model_selection import train_test_split\n",
    "X_train, X_test, y_train, y_test = train_test_split(X, y, test_size=0.30, random_state=42)"
   ]
  },
  {
   "cell_type": "code",
   "execution_count": 16,
   "id": "7916ce73",
   "metadata": {},
   "outputs": [
    {
     "name": "stdout",
     "output_type": "stream",
     "text": [
      "35000\n"
     ]
    }
   ],
   "source": [
    "print(len(X_train))"
   ]
  },
  {
   "cell_type": "markdown",
   "id": "4a3f1983",
   "metadata": {},
   "source": [
    "Evidently, the dataset is unbiased, given that the distribution for quarks and gluons is almost similar. Here, I consider only a part of the data as all-to-all connected graph flows out of memory for all the dataset"
   ]
  },
  {
   "cell_type": "markdown",
   "id": "dd6a0284",
   "metadata": {},
   "source": [
    "### Deep Graph Library"
   ]
  },
  {
   "cell_type": "code",
   "execution_count": 18,
   "id": "d1c88a2d",
   "metadata": {},
   "outputs": [
    {
     "name": "stdout",
     "output_type": "stream",
     "text": [
      "Collecting dgl\n",
      "  Downloading dgl-0.6.1-cp38-cp38-manylinux1_x86_64.whl (4.5 MB)\n",
      "\u001b[2K     \u001b[38;2;114;156;31m━━━━━━━━━━━━━━━━━━━━━━━━━━━━━━━━━━━━━━━━\u001b[0m \u001b[32m4.5/4.5 MB\u001b[0m \u001b[31m273.2 kB/s\u001b[0m eta \u001b[36m0:00:00\u001b[0mm eta \u001b[36m0:00:01\u001b[0m[36m0:00:01\u001b[0m\n",
      "\u001b[?25hRequirement already satisfied: scipy>=1.1.0 in /home/pratzz/anaconda3/lib/python3.8/site-packages (from dgl) (1.7.1)\n",
      "Requirement already satisfied: requests>=2.19.0 in /home/pratzz/anaconda3/lib/python3.8/site-packages (from dgl) (2.26.0)\n",
      "Requirement already satisfied: numpy>=1.14.0 in /home/pratzz/anaconda3/lib/python3.8/site-packages (from dgl) (1.19.5)\n",
      "Requirement already satisfied: networkx>=2.1 in /home/pratzz/anaconda3/lib/python3.8/site-packages (from dgl) (2.6.2)\n",
      "Requirement already satisfied: charset-normalizer~=2.0.0 in /home/pratzz/anaconda3/lib/python3.8/site-packages (from requests>=2.19.0->dgl) (2.0.4)\n",
      "Requirement already satisfied: urllib3<1.27,>=1.21.1 in /home/pratzz/anaconda3/lib/python3.8/site-packages (from requests>=2.19.0->dgl) (1.26.6)\n",
      "Requirement already satisfied: idna<4,>=2.5 in /home/pratzz/anaconda3/lib/python3.8/site-packages (from requests>=2.19.0->dgl) (2.10)\n",
      "Requirement already satisfied: certifi>=2017.4.17 in /home/pratzz/anaconda3/lib/python3.8/site-packages (from requests>=2.19.0->dgl) (2021.5.30)\n",
      "Installing collected packages: dgl\n",
      "Successfully installed dgl-0.6.1\n"
     ]
    }
   ],
   "source": [
    "! pip install dgl"
   ]
  },
  {
   "cell_type": "code",
   "execution_count": 19,
   "id": "c95ca23e",
   "metadata": {},
   "outputs": [
    {
     "name": "stdout",
     "output_type": "stream",
     "text": [
      "Setting the default backend to \"pytorch\". You can change it in the ~/.dgl/config.json file or export the DGLBACKEND environment variable.  Valid options are: pytorch, mxnet, tensorflow (all lowercase)\n"
     ]
    },
    {
     "name": "stderr",
     "output_type": "stream",
     "text": [
      "DGL backend not selected or invalid.  Assuming PyTorch for now.\n",
      "Using backend: pytorch\n"
     ]
    }
   ],
   "source": [
    "import dgl\n",
    "import torch\n",
    "import numpy as np\n",
    "import pickle\n",
    "import matplotlib.pyplot as plt\n",
    "import networkx as nx"
   ]
  },
  {
   "cell_type": "markdown",
   "id": "868655e4",
   "metadata": {},
   "source": [
    "Adding nodes and edges:"
   ]
  },
  {
   "cell_type": "code",
   "execution_count": 20,
   "id": "dc9b6a72",
   "metadata": {},
   "outputs": [],
   "source": [
    "def build_graph(edges):\n",
    "    g = dgl.DGLGraph()\n",
    "    g.add_nodes(len(X))\n",
    "    src, dst = tuple(zip(*edges))\n",
    "    g.add_edges(src, dst)\n",
    "    # edges are directional in DGL; make them bidirectional\n",
    "    g.add_edges(dst, src)\n",
    "    return g"
   ]
  },
  {
   "cell_type": "code",
   "execution_count": 21,
   "id": "388e24d7",
   "metadata": {},
   "outputs": [],
   "source": [
    "edge_list=[]\n",
    "from itertools import combinations  \n",
    "import random\n",
    "edges=random.sample(range(1, len(X_train)), int(len(X_train)/30))\n",
    "edge_list=combinations(edges,2)"
   ]
  },
  {
   "cell_type": "code",
   "execution_count": 22,
   "id": "de50367e",
   "metadata": {},
   "outputs": [],
   "source": [
    "edge_list=list(edge_list)"
   ]
  },
  {
   "cell_type": "code",
   "execution_count": 23,
   "id": "d0a8779e",
   "metadata": {},
   "outputs": [
    {
     "name": "stdout",
     "output_type": "stream",
     "text": [
      "679195\n"
     ]
    }
   ],
   "source": [
    "print(len(edge_list))"
   ]
  },
  {
   "cell_type": "code",
   "execution_count": 24,
   "id": "6561edda",
   "metadata": {},
   "outputs": [
    {
     "name": "stderr",
     "output_type": "stream",
     "text": [
      "/home/pratzz/anaconda3/lib/python3.8/site-packages/dgl/base.py:45: DGLWarning: Recommend creating graphs by `dgl.graph(data)` instead of `dgl.DGLGraph(data)`.\n",
      "  return warnings.warn(message, category=category, stacklevel=1)\n"
     ]
    }
   ],
   "source": [
    "G = build_graph(edge_list)"
   ]
  },
  {
   "cell_type": "code",
   "execution_count": 25,
   "id": "f211165b",
   "metadata": {},
   "outputs": [
    {
     "name": "stdout",
     "output_type": "stream",
     "text": [
      "We have 50000 nodes.\n",
      "We have 1358390 edges.\n"
     ]
    }
   ],
   "source": [
    "print('We have %d nodes.' % G.number_of_nodes())\n",
    "print('We have %d edges.' % G.number_of_edges())"
   ]
  },
  {
   "cell_type": "code",
   "execution_count": 45,
   "id": "f9edd295",
   "metadata": {},
   "outputs": [],
   "source": [
    "import torch.nn as nn\n",
    "import torch.nn.functional as F\n",
    "def gcn_message(edges):\n",
    "    return {'msg' : edges.src['h']}\n",
    "\n",
    "def gcn_reduce(nodes):\n",
    "    return {'h' : torch.sum(nodes.mailbox['msg'], dim=1)}\n",
    "\n",
    "# Define the GCNLayer module\n",
    "class GCNLayer(nn.Module):\n",
    "    def __init__(self, in_feats, out_feats):\n",
    "        super(GCNLayer, self).__init__()\n",
    "        self.linear = nn.Linear(in_feats, out_feats)\n",
    "\n",
    "    def forward(self, g, inputs):\n",
    "        g.ndata['h'] = inputs\n",
    "        g.send_and_recv(g.edges(), gcn_message, gcn_reduce)\n",
    "#         g.recv(g.nodes(), gcn_reduce)\n",
    "        h = g.ndata.pop('h')\n",
    "        return self.linear(h)"
   ]
  },
  {
   "cell_type": "code",
   "execution_count": 46,
   "id": "ff6b4732",
   "metadata": {},
   "outputs": [],
   "source": [
    "class GCN(nn.Module):\n",
    "    def __init__(self, in_feats, hidden_size, num_classes):\n",
    "        super(GCN, self).__init__()\n",
    "        self.gcn1 = GCNLayer(in_feats, hidden_size)\n",
    "        self.gcn2 = GCNLayer(hidden_size, num_classes)\n",
    "        self.softmax = nn.Softmax()\n",
    "\n",
    "    def forward(self, g, inputs):\n",
    "        h = self.gcn1(g, inputs)\n",
    "        h = torch.relu(h)\n",
    "        h = self.gcn2(g, h)\n",
    "        h = self.softmax(h)\n",
    "        return h\n",
    "net = GCN(4, 10, 2)"
   ]
  },
  {
   "cell_type": "code",
   "execution_count": 47,
   "id": "2657c84e",
   "metadata": {},
   "outputs": [],
   "source": [
    "inputs = torch.tensor(X.values)#torch.eye(node_count)\n",
    "labeled_nodes = torch.tensor(y_train[::3].index)\n",
    "labels = torch.tensor(y_train[::3].values)"
   ]
  },
  {
   "cell_type": "code",
   "execution_count": 48,
   "id": "5cd9b5bd",
   "metadata": {},
   "outputs": [
    {
     "name": "stdout",
     "output_type": "stream",
     "text": [
      "49997 11667\n"
     ]
    }
   ],
   "source": [
    "print(max(y_train[::3].keys()),len(labels))"
   ]
  },
  {
   "cell_type": "code",
   "execution_count": 49,
   "id": "280c86a2",
   "metadata": {},
   "outputs": [
    {
     "name": "stderr",
     "output_type": "stream",
     "text": [
      "/tmp/ipykernel_137909/507448650.py:12: UserWarning: Implicit dimension choice for softmax has been deprecated. Change the call to include dim=X as an argument.\n",
      "  h = self.softmax(h)\n"
     ]
    },
    {
     "name": "stdout",
     "output_type": "stream",
     "text": [
      "50000 11667\n",
      "Epoch 0 | Loss: 0.8137\n",
      "50000 11667\n",
      "Epoch 1 | Loss: 0.7402\n",
      "50000 11667\n",
      "Epoch 2 | Loss: 0.8069\n",
      "50000 11667\n",
      "Epoch 3 | Loss: 0.8133\n",
      "50000 11667\n",
      "Epoch 4 | Loss: 0.8126\n",
      "50000 11667\n",
      "Epoch 5 | Loss: 0.8125\n",
      "50000 11667\n",
      "Epoch 6 | Loss: 0.8098\n",
      "50000 11667\n",
      "Epoch 7 | Loss: 0.7951\n",
      "50000 11667\n",
      "Epoch 8 | Loss: 0.7690\n",
      "50000 11667\n",
      "Epoch 9 | Loss: 0.7826\n"
     ]
    }
   ],
   "source": [
    "optimizer = torch.optim.Adam(net.parameters(), lr=0.1)\n",
    "all_preds = []\n",
    "epochs = 10\n",
    "losses=[]\n",
    "for epoch in range(epochs):\n",
    "    preds = net(G, inputs.float())\n",
    "    all_preds.append(preds)\n",
    "    # we only compute loss for labeled nodes\n",
    "    print(len(preds),len(labels))\n",
    "    loss = F.cross_entropy(preds[labeled_nodes], labels.long())\n",
    "    losses.append(loss)\n",
    "    optimizer.zero_grad() # PyTorch accumulates gradients by default\n",
    "    loss.backward() \n",
    "    optimizer.step()\n",
    "\n",
    "    print('Epoch %d | Loss: %.4f' % (epoch, loss.item()))"
   ]
  },
  {
   "cell_type": "code",
   "execution_count": 50,
   "id": "fc09ab93",
   "metadata": {},
   "outputs": [
    {
     "data": {
      "image/png": "[encoded data removed]",
      "text/plain": [
       "<Figure size 432x288 with 1 Axes>"
      ]
     },
     "metadata": {
      "needs_background": "light"
     },
     "output_type": "display_data"
    }
   ],
   "source": [
    "import matplotlib.pyplot as plt\n",
    "plt.plot(range(epochs),losses)\n",
    "plt.show()"
   ]
  },
  {
   "cell_type": "code",
   "execution_count": 51,
   "id": "b3e25c66",
   "metadata": {},
   "outputs": [
    {
     "name": "stdout",
     "output_type": "stream",
     "text": [
      "[0 0 0 ... 0 0 0]\n",
      "['g' 'g' 'g' ... 'g' 'g' 'g']\n"
     ]
    }
   ],
   "source": [
    "last_epoch = all_preds[epochs-1].detach().numpy()\n",
    "predicted_class = np.argmax(last_epoch, axis=-1)\n",
    "color = np.where(predicted_class==0, 'g', 'p')\n",
    "\n",
    "print(predicted_class)\n",
    "print(color)"
   ]
  },
  {
   "cell_type": "code",
   "execution_count": 52,
   "id": "d62d00de",
   "metadata": {},
   "outputs": [
    {
     "name": "stdout",
     "output_type": "stream",
     "text": [
      "50000 50000\n"
     ]
    }
   ],
   "source": [
    "print(len(predicted_class),len(y))"
   ]
  },
  {
   "cell_type": "code",
   "execution_count": 53,
   "id": "faf158c2",
   "metadata": {},
   "outputs": [
    {
     "data": {
      "text/plain": [
       "0.49952"
      ]
     },
     "execution_count": 53,
     "metadata": {},
     "output_type": "execute_result"
    }
   ],
   "source": [
    "from sklearn.metrics import accuracy_score\n",
    "accuracy_score(predicted_class,y)"
   ]
  }
 ],
 "metadata": {
  "kernelspec": {
   "display_name": "Python 3 (ipykernel)",
   "language": "python",
   "name": "python3"
  },
  "language_info": {
   "codemirror_mode": {
    "name": "ipython",
    "version": 3
   },
   "file_extension": ".py",
   "mimetype": "text/x-python",
   "name": "python",
   "nbconvert_exporter": "python",
   "pygments_lexer": "ipython3",
   "version": "3.8.5"
  }
 },
 "nbformat": 4,
 "nbformat_minor": 5
}
